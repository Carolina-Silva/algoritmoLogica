{
  "cells": [
    {
      "cell_type": "markdown",
      "metadata": {
        "id": "view-in-github",
        "colab_type": "text"
      },
      "source": [
        "<a href=\"https://colab.research.google.com/github/Carolina-Silva/algoritmoLogica/blob/main/PesosFuncionarios.ipynb\" target=\"_parent\"><img src=\"https://colab.research.google.com/assets/colab-badge.svg\" alt=\"Open In Colab\"/></a>"
      ]
    },
    {
      "cell_type": "markdown",
      "source": [
        "Neste documento, fazemos calculos de um documento csv com pesos de pessoas ....SOS"
      ],
      "metadata": {
        "id": "Pcw2mulmRXBG"
      }
    },
    {
      "cell_type": "code",
      "execution_count": 32,
      "metadata": {
        "colab": {
          "base_uri": "https://localhost:8080/"
        },
        "id": "zyB1-WCTCgZh",
        "outputId": "ef0ee65a-d011-4c91-e2a2-39de824dcbcd"
      },
      "outputs": [
        {
          "output_type": "stream",
          "name": "stdout",
          "text": [
            "Mounted at /content/drive\n"
          ]
        }
      ],
      "source": [
        "# importações de bibliotecas necessarias.\n",
        "import pandas as pd\n",
        "import os\n",
        "import numpy as np\n",
        "import matplotlib.pyplot as plt\n",
        "from google.colab import drive\n",
        "import math\n",
        "drive.mount('/content/drive', force_remount=True)\n"
      ]
    },
    {
      "cell_type": "code",
      "execution_count": 33,
      "metadata": {
        "id": "ybjY3UkIHUr0"
      },
      "outputs": [],
      "source": [
        "# Caminho e nome do arquivo\n",
        "arquivo = '/content/drive/MyDrive/Colab Notebooks/arquivos/Pesos.csv'"
      ]
    },
    {
      "cell_type": "code",
      "execution_count": 34,
      "metadata": {
        "id": "vzBLBfdXCiki"
      },
      "outputs": [],
      "source": [
        "# Guardar no dataframe (df)\n",
        "df = pd.read_csv(arquivo, usecols=['Pesos'])"
      ]
    },
    {
      "cell_type": "code",
      "execution_count": 35,
      "metadata": {
        "colab": {
          "base_uri": "https://localhost:8080/"
        },
        "id": "Nc-Fn55HGES5",
        "outputId": "654d8257-4bd6-4c4b-bd20-9e43bd1313c0"
      },
      "outputs": [
        {
          "output_type": "stream",
          "name": "stdout",
          "text": [
            "    Pesos\n",
            "0      70\n",
            "1      94\n",
            "2      74\n",
            "3      80\n",
            "4      73\n",
            "5      63\n",
            "6      88\n",
            "7      65\n",
            "8      68\n",
            "9      77\n",
            "10     50\n",
            "11     71\n",
            "12     68\n",
            "13     60\n",
            "14     69\n",
            "15     52\n",
            "16     69\n",
            "17     90\n",
            "18     91\n",
            "19     74\n",
            "20     59\n",
            "21     64\n",
            "22     81\n",
            "23     92\n",
            "24     90\n",
            "25     96\n",
            "26     73\n",
            "27     83\n",
            "28     88\n",
            "29     87\n",
            "30     91\n",
            "31     82\n",
            "32     57\n",
            "33     58\n",
            "34     64\n",
            "35     81\n",
            "36     86\n",
            "37     59\n",
            "38     55\n",
            "39     57\n",
            "40     72\n",
            "41     97\n",
            "42     76\n",
            "43     96\n",
            "44     81\n",
            "45     77\n",
            "46     91\n",
            "47     77\n",
            "48     80\n",
            "49     72\n",
            "Pesos    97\n",
            "dtype: int64\n",
            "Pesos    50\n",
            "dtype: int64\n"
          ]
        }
      ],
      "source": [
        "print(df)\n",
        "print(df.max())\n",
        "print(df.min())"
      ]
    },
    {
      "cell_type": "code",
      "execution_count": 67,
      "metadata": {
        "colab": {
          "base_uri": "https://localhost:8080/"
        },
        "id": "O_4_2XuQE5YF",
        "outputId": "db6dbd3a-eb11-436d-a579-ce7edaa059fb"
      },
      "outputs": [
        {
          "output_type": "stream",
          "name": "stdout",
          "text": [
            "47\n"
          ]
        }
      ],
      "source": [
        "# Amplitude\n",
        "at = math.ceil(df.max() - df.min())\n",
        "print(at)"
      ]
    },
    {
      "cell_type": "code",
      "execution_count": 68,
      "metadata": {
        "colab": {
          "base_uri": "https://localhost:8080/"
        },
        "id": "jIJZJ2wFwASH",
        "outputId": "f491538f-229f-4639-a7ba-218dc5dcab21"
      },
      "outputs": [
        {
          "output_type": "stream",
          "name": "stdout",
          "text": [
            "Quantidade de classes 7\n",
            "Intervalo das classes 7\n"
          ]
        }
      ],
      "source": [
        "# Calculando as classes\n",
        "k = math.trunc(math.sqrt(len(df)))\n",
        "h = at/k\n",
        "h = math.ceil(h)\n",
        "\n",
        "print(\"Quantidade de classes \" + str(k))\n",
        "print(\"Intervalo das classes \" + str(h))"
      ]
    },
    {
      "cell_type": "code",
      "execution_count": 69,
      "metadata": {
        "colab": {
          "base_uri": "https://localhost:8080/"
        },
        "id": "P9TOayYt1oCq",
        "outputId": "9634b54f-aa59-4ae8-d096-b281289b7c9d"
      },
      "outputs": [
        {
          "output_type": "stream",
          "name": "stdout",
          "text": [
            "          Frequência Absoluta  Ponto Médio  Frequência Relativa  Porcentagem\n",
            "Classes                                                                     \n",
            "[50, 57)                    3         53.5                 0.06          6.0\n",
            "[57, 64)                    7         60.5                 0.14         14.0\n",
            "[64, 71)                    8         67.5                 0.16         16.0\n",
            "[71, 78)                   11         74.5                 0.22         22.0\n",
            "[78, 85)                    7         81.5                 0.14         14.0\n",
            "[85, 92)                    9         88.5                 0.18         18.0\n",
            "[92, 99)                    5         95.5                 0.10         10.0\n"
          ]
        }
      ],
      "source": [
        "# Criação da tabela de Frequencia\n",
        "\n",
        "frequencias = []\n",
        "limites_classes = []\n",
        "\n",
        "menor = round(df.min(),1)\n",
        "\n",
        "menor_amp = round(menor+h,1)\n",
        "\n",
        "valor = int(menor)\n",
        "while valor < int(df.max()):\n",
        "    limites_classes.append(valor)\n",
        "    frequencias.append('{} - {}'.format(valor,valor+h))\n",
        "    valor += h\n",
        "limites_classes.append(valor)\n",
        "\n",
        "# Calculando os pontos médios (xi) com base nos limites das classes\n",
        "pontos_medios = [(limite_inf + limite_sup) / 2 for limite_inf, limite_sup in zip(limites_classes, limites_classes[1:])]\n",
        "\n",
        "# Calcular a frequência das classes\n",
        "frequencia_classes = pd.cut(df['Pesos'], bins=limites_classes, include_lowest=True, right=False).value_counts().sort_index()\n",
        "\n",
        "# Calcular a frequência relativa das classes\n",
        "frequencia_relativa_classes = frequencia_classes / len(df)\n",
        "\n",
        "# Calcular a porcentagem\n",
        "porcentagem = round(frequencia_relativa_classes * 100, 0)\n",
        "\n",
        "# tabela de distribuição de frequências\n",
        "tabela_frequencias = pd.DataFrame({\n",
        "    'Frequência Absoluta': frequencia_classes,\n",
        "    'Ponto Médio': pontos_medios,\n",
        "    'Frequência Relativa': frequencia_relativa_classes,\n",
        "    'Porcentagem': porcentagem\n",
        "})\n",
        "tabela_frequencias.index.name = 'Classes'\n",
        "\n",
        "print (tabela_frequencias)\n",
        "\n"
      ]
    },
    {
      "cell_type": "code",
      "source": [
        "# Criar um gráfico de barra das frequências das classes\n",
        "tabela_frequencias['Frequência Absoluta'].plot(kind='bar')\n",
        "plt.xlabel('Classes')\n",
        "plt.ylabel('Frequência Absoluta')\n",
        "plt.title('Gráfico de Barra das Frequências das Classes')\n",
        "plt.grid(axis='y', linestyle='--', alpha=0.7)\n",
        "plt.show()\n"
      ],
      "metadata": {
        "colab": {
          "base_uri": "https://localhost:8080/",
          "height": 513
        },
        "id": "9-PzkSqJyvwE",
        "outputId": "f1fb5181-40df-4ba7-e21e-6cda9d8bcacf"
      },
      "execution_count": 70,
      "outputs": [
        {
          "output_type": "display_data",
          "data": {
            "text/plain": [
              "<Figure size 640x480 with 1 Axes>"
            ],
            "image/png": "[encoded data removed]"
          },
          "metadata": {}
        }
      ]
    },
    {
      "cell_type": "markdown",
      "source": [
        "Média Ponderada x̄ = (Σ(xi * fi)) / Σfi\n"
      ],
      "metadata": {
        "id": "udGPEgqjPqHM"
      }
    },
    {
      "cell_type": "code",
      "source": [
        "# calcula média ponderada seguindo a formula.\n",
        "soma_produtos = sum(ponto_medio * freq for ponto_medio, freq in zip(pontos_medios, frequencia_classes))\n",
        "total_frequencia_absoluta = sum(frequencia_classes)\n",
        "media_ponderada = soma_produtos / total_frequencia_absoluta\n",
        "\n",
        "print(\"A média ponderada é(aproximadamente):\", media_ponderada)"
      ],
      "metadata": {
        "colab": {
          "base_uri": "https://localhost:8080/"
        },
        "id": "aZbVteC35SME",
        "outputId": "5f049d7f-23ec-4048-b56a-e3d61a89d0f6"
      },
      "execution_count": 64,
      "outputs": [
        {
          "output_type": "stream",
          "name": "stdout",
          "text": [
            "A média ponderada é(aproximadamente): 75.76\n"
          ]
        }
      ]
    },
    {
      "cell_type": "markdown",
      "source": [
        "\n",
        "Fórmula para calcular a mediana  \n",
        "md = imd + ((n/2 - Fant) / find) * h"
      ],
      "metadata": {
        "id": "GxhAOyhAQF02"
      }
    },
    {
      "cell_type": "code",
      "source": [
        "# sos"
      ],
      "metadata": {
        "id": "LRIMJJ2LOlAJ"
      },
      "execution_count": null,
      "outputs": []
    },
    {
      "cell_type": "markdown",
      "source": [
        " fórmula para calcular a moda\n",
        "\n",
        " mo = imo + (fpost - fant) / ((fpost - fant) + (fpost - fant)) * h\n",
        "\n",
        " -------------------------------------\n",
        "\n",
        " Moda (de King) = L + (h * ((F - F1) / (F - F1 + F2)))\n",
        "\n"
      ],
      "metadata": {
        "id": "PgthwXEtQuQG"
      }
    },
    {
      "cell_type": "code",
      "source": [
        "# sos"
      ],
      "metadata": {
        "id": "s_XcZKHdRN11"
      },
      "execution_count": null,
      "outputs": []
    },
    {
      "cell_type": "code",
      "source": [
        "# Utilizando biblioteca para calcular média, moda e mediana\n",
        "\n",
        "media = df['Pesos'].mean()\n",
        "print(\"Média: {:.2f}\".format(media))\n",
        "\n",
        "\n",
        "moda = df['Pesos'].mode().values[0]\n",
        "print(\"Moda: {:.2f}\".format(moda))\n",
        "\n",
        "\n",
        "mediana = df['Pesos'].median()\n",
        "print(\"Mediana: {:.2f}\".format(mediana))\n"
      ],
      "metadata": {
        "colab": {
          "base_uri": "https://localhost:8080/"
        },
        "id": "l8VXDKo7wgQl",
        "outputId": "c72dd053-d040-434c-89b8-9bc2f5e58e73"
      },
      "execution_count": 50,
      "outputs": [
        {
          "output_type": "stream",
          "name": "stdout",
          "text": [
            "Média: 75.36\n",
            "Moda: 77.00\n",
            "Mediana: 75.00\n"
          ]
        }
      ]
    },
    {
      "cell_type": "code",
      "source": [],
      "metadata": {
        "id": "3M5qC4WZyuxO"
      },
      "execution_count": 14,
      "outputs": []
    }
  ],
  "metadata": {
    "colab": {
      "provenance": [],
      "include_colab_link": true
    },
    "kernelspec": {
      "display_name": "Python 3",
      "name": "python3"
    },
    "language_info": {
      "name": "python"
    }
  },
  "nbformat": 4,
  "nbformat_minor": 0
}